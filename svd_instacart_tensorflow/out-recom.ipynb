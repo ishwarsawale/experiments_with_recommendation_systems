{
 "cells": [
  {
   "cell_type": "code",
   "execution_count": 7,
   "metadata": {},
   "outputs": [
    {
     "name": "stdout",
     "output_type": "stream",
     "text": [
      "loading data\n",
      "getting svd matrix\n"
     ]
    }
   ],
   "source": [
    "import numpy as np # linear algebra\n",
    "import pprint\n",
    "import pandas as pd # data processing, CSV file I/O (e.g. pd.read_csv)\n",
    "import matplotlib.pyplot as plt\n",
    "import seaborn as sns\n",
    "import csv\n",
    "import pymongo\n",
    "from pymongo import MongoClient\n",
    "import datetime\n",
    "\n",
    "\n",
    "\n",
    "print 'loading data'\n",
    "orders = pd.read_csv(\"data/orders_train_test.csv\")\n",
    "prior = pd.read_csv(\"data/order_products__prior.csv\")\n",
    "train = pd.read_csv(\"data/order_products__train.csv\")\n",
    "frames = [prior, train]\n",
    "products = result = pd.concat(frames)\n",
    "orders = orders.loc[orders['group_indicator'] == 1]\n",
    "test_orders = pd.merge(orders, products, on='order_id')\n",
    "test_orders2 = test_orders[['user_id', 'order_id', 'product_id']]\n",
    "test_orders2 =  test_orders2.groupby(['user_id', 'order_id'])['product_id'].apply(list)\n",
    "test_set = pd.read_csv(\"data/test_set_.csv\", names = [\"user_id\", \"days_since_prior_order\", \"basket\", \"order_id\"])\n",
    "preds = pd.read_csv(\"data/pred-actual.csv\",  names = [\"pred\", \"actual\"])\n",
    "user_prod_stats = pd.read_csv(\"data/user_product_stats.csv\")\n",
    "print 'getting svd matrix'\n",
    "test_preds = pd.concat([test_set, preds], axis=1)\n",
    "pred_prods =pd.DataFrame()\n",
    "l=int(len(test_set))\n",
    "c=int(1)\n",
    "final_pred_prods = []\n",
    "final_pred_prods2 = pd.DataFrame()\n"
   ]
  },
  {
   "cell_type": "code",
   "execution_count": 8,
   "metadata": {},
   "outputs": [],
   "source": [
    "def get_prediction(user_name):\n",
    "\n",
    "    client = MongoClient()\n",
    "    client = MongoClient('localhost', 27017)\n",
    "    db = client.retail_db\n",
    "    users = db.users\n",
    "    use = list(users.find({\"text\": user_name}).sort([(\"date\", pymongo.DESCENDING)]).limit(1))\n",
    "    user_name = use[0]['text']\n",
    "    ub = client.user_table\n",
    "    unames = ub.users\n",
    "    user_list = list(unames.find({\"user_name\": user_name}).limit(1))\n",
    "    user_id = user_list[0]['user_id']\n",
    "    user_stats = []\n",
    "    basket_size = int(round(test_preds[test_preds.user_id == user_id]['pred']))\n",
    "    user_stats = user_prod_stats.loc[user_prod_stats['user_id'] == user_id]\n",
    "    user_products = user_stats['product_id']\n",
    "    pred_prods  =  user_products.head(basket_size)\n",
    "    df_row = pred_prods.tolist()\n",
    "    sample_user = user_name\n",
    "    sample_size = basket_size\n",
    "    sample_reco = pred_prods\n",
    "    final_pred_prods.append(df_row)\n",
    "    print 'User:', sample_user\n",
    "    print 'Basket size:', int(sample_size)\n",
    "    print  'recommeded products:',list(sample_reco)"
   ]
  },
  {
   "cell_type": "code",
   "execution_count": 9,
   "metadata": {},
   "outputs": [
    {
     "name": "stdout",
     "output_type": "stream",
     "text": [
      "User: Ishwar Sawale\n",
      "Basket size: 4\n",
      "recommeded products: [13712, 329, 27845, 23339]\n"
     ]
    }
   ],
   "source": [
    "get_prediction('Ishwar Sawale')"
   ]
  },
  {
   "cell_type": "code",
   "execution_count": null,
   "metadata": {
    "collapsed": true
   },
   "outputs": [],
   "source": []
  }
 ],
 "metadata": {
  "kernelspec": {
   "display_name": "Python 2",
   "language": "python",
   "name": "python2"
  },
  "language_info": {
   "codemirror_mode": {
    "name": "ipython",
    "version": 2
   },
   "file_extension": ".py",
   "mimetype": "text/x-python",
   "name": "python",
   "nbconvert_exporter": "python",
   "pygments_lexer": "ipython2",
   "version": "2.7.14"
  }
 },
 "nbformat": 4,
 "nbformat_minor": 2
}
