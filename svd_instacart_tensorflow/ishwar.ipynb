{
 "cells": [
  {
   "cell_type": "markdown",
   "metadata": {},
   "source": [
    "#mydb"
   ]
  },
  {
   "cell_type": "markdown",
   "metadata": {},
   "source": [
    "### Part 1: Data Preparation"
   ]
  },
  {
   "cell_type": "code",
   "execution_count": 1,
   "metadata": {
    "collapsed": true
   },
   "outputs": [],
   "source": [
    "import pandas as pd\n",
    "import numpy as np\n",
    "import sys"
   ]
  },
  {
   "cell_type": "code",
   "execution_count": 2,
   "metadata": {
    "collapsed": true
   },
   "outputs": [],
   "source": [
    "# Utility functions \n",
    "\n",
    "# Returns the size of an object in MB\n",
    "def size(obj):\n",
    "    return \"{0:.2f} MB\".format(sys.getsizeof(obj) / (1000 * 1000))\n",
    "\n",
    "# Displays dataframe dimensions, size and top 5 records\n",
    "def inspect_df(df_name, df):\n",
    "    print('{0} --- dimensions: {1};  size: {2}'.format(df_name, df.shape, size(df)))  \n",
    "    display(df.head())\n",
    "    \n",
    "# Exports dataframe to CSV, the format for loading data into Neo4j \n",
    "def export_to_csv(df, out):\n",
    "    df.to_csv(out, sep='|', columns=df.columns, index=False)"
   ]
  },
  {
   "cell_type": "code",
   "execution_count": 3,
   "metadata": {},
   "outputs": [
    {
     "name": "stdout",
     "output_type": "stream",
     "text": [
      "Distribution of number of orders per user:\n"
     ]
    },
    {
     "data": {
      "text/plain": [
       "count    206209.000000\n",
       "mean         15.590367\n",
       "std          16.654774\n",
       "min           3.000000\n",
       "25%           5.000000\n",
       "50%           9.000000\n",
       "75%          19.000000\n",
       "max          99.000000\n",
       "Name: num_orders, dtype: float64"
      ]
     },
     "metadata": {},
     "output_type": "display_data"
    },
    {
     "name": "stdout",
     "output_type": "stream",
     "text": [
      "order_user --- dimensions: (1901, 5);  size: 0.09 MB\n"
     ]
    },
    {
     "data": {
      "text/html": [
       "<div>\n",
       "<style>\n",
       "    .dataframe thead tr:only-child th {\n",
       "        text-align: right;\n",
       "    }\n",
       "\n",
       "    .dataframe thead th {\n",
       "        text-align: left;\n",
       "    }\n",
       "\n",
       "    .dataframe tbody tr th {\n",
       "        vertical-align: top;\n",
       "    }\n",
       "</style>\n",
       "<table border=\"1\" class=\"dataframe\">\n",
       "  <thead>\n",
       "    <tr style=\"text-align: right;\">\n",
       "      <th></th>\n",
       "      <th>order_id</th>\n",
       "      <th>user_id</th>\n",
       "      <th>order_number</th>\n",
       "      <th>order_dow</th>\n",
       "      <th>order_hour_of_day</th>\n",
       "    </tr>\n",
       "  </thead>\n",
       "  <tbody>\n",
       "    <tr>\n",
       "      <th>11334</th>\n",
       "      <td>2808127</td>\n",
       "      <td>701</td>\n",
       "      <td>1</td>\n",
       "      <td>2</td>\n",
       "      <td>14</td>\n",
       "    </tr>\n",
       "    <tr>\n",
       "      <th>11335</th>\n",
       "      <td>2677145</td>\n",
       "      <td>701</td>\n",
       "      <td>2</td>\n",
       "      <td>3</td>\n",
       "      <td>11</td>\n",
       "    </tr>\n",
       "    <tr>\n",
       "      <th>11336</th>\n",
       "      <td>740361</td>\n",
       "      <td>701</td>\n",
       "      <td>3</td>\n",
       "      <td>1</td>\n",
       "      <td>13</td>\n",
       "    </tr>\n",
       "    <tr>\n",
       "      <th>11337</th>\n",
       "      <td>2866491</td>\n",
       "      <td>701</td>\n",
       "      <td>4</td>\n",
       "      <td>3</td>\n",
       "      <td>12</td>\n",
       "    </tr>\n",
       "    <tr>\n",
       "      <th>11338</th>\n",
       "      <td>1676999</td>\n",
       "      <td>701</td>\n",
       "      <td>5</td>\n",
       "      <td>4</td>\n",
       "      <td>11</td>\n",
       "    </tr>\n",
       "  </tbody>\n",
       "</table>\n",
       "</div>"
      ],
      "text/plain": [
       "       order_id  user_id  order_number  order_dow  order_hour_of_day\n",
       "11334   2808127      701             1          2                 14\n",
       "11335   2677145      701             2          3                 11\n",
       "11336    740361      701             3          1                 13\n",
       "11337   2866491      701             4          3                 12\n",
       "11338   1676999      701             5          4                 11"
      ]
     },
     "metadata": {},
     "output_type": "display_data"
    }
   ],
   "source": [
    "min_orders   = 5     # minimum order count per user\n",
    "sample_count = 100   # number of users to select randomly\n",
    "\n",
    "# Load data from evaluation set \"prior\" (please see data dictionary for definition of 'eval_set') \n",
    "order_user           = pd.read_csv('orders.csv')\n",
    "order_user           = order_user[order_user['eval_set'] == 'prior']\n",
    "\n",
    "# Get distribution of number of orders per user\n",
    "user_order_count     = order_user.groupby('user_id').agg({'order_id':'count'}).rename(columns={'order_id':'num_orders'}).reset_index()\n",
    "print('Distribution of number of orders per user:')\n",
    "display(user_order_count['num_orders'].describe())\n",
    "\n",
    "# Select users who purchased at least 'min_orders'\n",
    "user_order_atleast_x = user_order_count[user_order_count['num_orders'] >= min_orders]\n",
    "\n",
    "# For reproducibility, set seed before taking a random sample\n",
    "np.random.seed(1111)\n",
    "user_sample          = np.random.choice(user_order_atleast_x['user_id'], sample_count, replace=False)\n",
    "\n",
    "# Subset 'order_user' to include records associated with the 100 randomly selected users\n",
    "order_user           = order_user[order_user['user_id'].isin(user_sample)]\n",
    "order_user           = order_user[['order_id','user_id','order_number','order_dow','order_hour_of_day']]\n",
    "inspect_df('order_user', order_user)"
   ]
  },
  {
   "cell_type": "markdown",
   "metadata": {},
   "source": [
    "#### B. Load order details data"
   ]
  },
  {
   "cell_type": "code",
   "execution_count": 4,
   "metadata": {},
   "outputs": [
    {
     "name": "stdout",
     "output_type": "stream",
     "text": [
      "order_product --- dimensions: (19840, 2);  size: 0.48 MB\n"
     ]
    },
    {
     "data": {
      "text/html": [
       "<div>\n",
       "<style>\n",
       "    .dataframe thead tr:only-child th {\n",
       "        text-align: right;\n",
       "    }\n",
       "\n",
       "    .dataframe thead th {\n",
       "        text-align: left;\n",
       "    }\n",
       "\n",
       "    .dataframe tbody tr th {\n",
       "        vertical-align: top;\n",
       "    }\n",
       "</style>\n",
       "<table border=\"1\" class=\"dataframe\">\n",
       "  <thead>\n",
       "    <tr style=\"text-align: right;\">\n",
       "      <th></th>\n",
       "      <th>order_id</th>\n",
       "      <th>product_id</th>\n",
       "    </tr>\n",
       "  </thead>\n",
       "  <tbody>\n",
       "    <tr>\n",
       "      <th>1855</th>\n",
       "      <td>209</td>\n",
       "      <td>39409</td>\n",
       "    </tr>\n",
       "    <tr>\n",
       "      <th>1856</th>\n",
       "      <td>209</td>\n",
       "      <td>20842</td>\n",
       "    </tr>\n",
       "    <tr>\n",
       "      <th>1857</th>\n",
       "      <td>209</td>\n",
       "      <td>16965</td>\n",
       "    </tr>\n",
       "    <tr>\n",
       "      <th>1858</th>\n",
       "      <td>209</td>\n",
       "      <td>8021</td>\n",
       "    </tr>\n",
       "    <tr>\n",
       "      <th>1859</th>\n",
       "      <td>209</td>\n",
       "      <td>23001</td>\n",
       "    </tr>\n",
       "  </tbody>\n",
       "</table>\n",
       "</div>"
      ],
      "text/plain": [
       "      order_id  product_id\n",
       "1855       209       39409\n",
       "1856       209       20842\n",
       "1857       209       16965\n",
       "1858       209        8021\n",
       "1859       209       23001"
      ]
     },
     "metadata": {},
     "output_type": "display_data"
    }
   ],
   "source": [
    "# Load orders associated with our 100 selected users, along with the products contained in those orders\n",
    "order_product = pd.read_csv('order_products__prior.csv')\n",
    "order_product = order_product[order_product['order_id'].isin(order_user.order_id.unique())][['order_id','product_id']]\n",
    "inspect_df('order_product', order_product)"
   ]
  },
  {
   "cell_type": "markdown",
   "metadata": {},
   "source": [
    "#### C.  Load product data"
   ]
  },
  {
   "cell_type": "code",
   "execution_count": 5,
   "metadata": {},
   "outputs": [
    {
     "name": "stdout",
     "output_type": "stream",
     "text": [
      "products --- dimensions: (3959, 4);  size: 0.46 MB\n"
     ]
    },
    {
     "data": {
      "text/html": [
       "<div>\n",
       "<style>\n",
       "    .dataframe thead tr:only-child th {\n",
       "        text-align: right;\n",
       "    }\n",
       "\n",
       "    .dataframe thead th {\n",
       "        text-align: left;\n",
       "    }\n",
       "\n",
       "    .dataframe tbody tr th {\n",
       "        vertical-align: top;\n",
       "    }\n",
       "</style>\n",
       "<table border=\"1\" class=\"dataframe\">\n",
       "  <thead>\n",
       "    <tr style=\"text-align: right;\">\n",
       "      <th></th>\n",
       "      <th>product_id</th>\n",
       "      <th>product_name</th>\n",
       "      <th>aisle_id</th>\n",
       "      <th>department_id</th>\n",
       "    </tr>\n",
       "  </thead>\n",
       "  <tbody>\n",
       "    <tr>\n",
       "      <th>0</th>\n",
       "      <td>1</td>\n",
       "      <td>Chocolate Sandwich Cookies</td>\n",
       "      <td>61</td>\n",
       "      <td>19</td>\n",
       "    </tr>\n",
       "    <tr>\n",
       "      <th>33</th>\n",
       "      <td>34</td>\n",
       "      <td>Peanut Butter Cereal</td>\n",
       "      <td>121</td>\n",
       "      <td>14</td>\n",
       "    </tr>\n",
       "    <tr>\n",
       "      <th>44</th>\n",
       "      <td>45</td>\n",
       "      <td>European Cucumber</td>\n",
       "      <td>83</td>\n",
       "      <td>4</td>\n",
       "    </tr>\n",
       "    <tr>\n",
       "      <th>98</th>\n",
       "      <td>99</td>\n",
       "      <td>Local Living Butter Lettuce</td>\n",
       "      <td>83</td>\n",
       "      <td>4</td>\n",
       "    </tr>\n",
       "    <tr>\n",
       "      <th>115</th>\n",
       "      <td>116</td>\n",
       "      <td>English Muffins</td>\n",
       "      <td>93</td>\n",
       "      <td>3</td>\n",
       "    </tr>\n",
       "  </tbody>\n",
       "</table>\n",
       "</div>"
      ],
      "text/plain": [
       "     product_id                 product_name  aisle_id  department_id\n",
       "0             1   Chocolate Sandwich Cookies        61             19\n",
       "33           34         Peanut Butter Cereal       121             14\n",
       "44           45            European Cucumber        83              4\n",
       "98           99  Local Living Butter Lettuce        83              4\n",
       "115         116              English Muffins        93              3"
      ]
     },
     "metadata": {},
     "output_type": "display_data"
    }
   ],
   "source": [
    "# Load products purchased by our 100 selected users\n",
    "products = pd.read_csv('products.csv')\n",
    "products = products[products['product_id'].isin(order_product.product_id.unique())]\n",
    "inspect_df('products', products)"
   ]
  },
  {
   "cell_type": "markdown",
   "metadata": {},
   "source": [
    "#### D. Load aisle data"
   ]
  },
  {
   "cell_type": "code",
   "execution_count": 6,
   "metadata": {},
   "outputs": [
    {
     "name": "stdout",
     "output_type": "stream",
     "text": [
      "aisles --- dimensions: (134, 2);  size: 0.01 MB\n"
     ]
    },
    {
     "data": {
      "text/html": [
       "<div>\n",
       "<style>\n",
       "    .dataframe thead tr:only-child th {\n",
       "        text-align: right;\n",
       "    }\n",
       "\n",
       "    .dataframe thead th {\n",
       "        text-align: left;\n",
       "    }\n",
       "\n",
       "    .dataframe tbody tr th {\n",
       "        vertical-align: top;\n",
       "    }\n",
       "</style>\n",
       "<table border=\"1\" class=\"dataframe\">\n",
       "  <thead>\n",
       "    <tr style=\"text-align: right;\">\n",
       "      <th></th>\n",
       "      <th>aisle_id</th>\n",
       "      <th>aisle</th>\n",
       "    </tr>\n",
       "  </thead>\n",
       "  <tbody>\n",
       "    <tr>\n",
       "      <th>0</th>\n",
       "      <td>1</td>\n",
       "      <td>prepared soups salads</td>\n",
       "    </tr>\n",
       "    <tr>\n",
       "      <th>1</th>\n",
       "      <td>2</td>\n",
       "      <td>specialty cheeses</td>\n",
       "    </tr>\n",
       "    <tr>\n",
       "      <th>2</th>\n",
       "      <td>3</td>\n",
       "      <td>energy granola bars</td>\n",
       "    </tr>\n",
       "    <tr>\n",
       "      <th>3</th>\n",
       "      <td>4</td>\n",
       "      <td>instant foods</td>\n",
       "    </tr>\n",
       "    <tr>\n",
       "      <th>4</th>\n",
       "      <td>5</td>\n",
       "      <td>marinades meat preparation</td>\n",
       "    </tr>\n",
       "  </tbody>\n",
       "</table>\n",
       "</div>"
      ],
      "text/plain": [
       "   aisle_id                       aisle\n",
       "0         1       prepared soups salads\n",
       "1         2           specialty cheeses\n",
       "2         3         energy granola bars\n",
       "3         4               instant foods\n",
       "4         5  marinades meat preparation"
      ]
     },
     "metadata": {},
     "output_type": "display_data"
    }
   ],
   "source": [
    "# Load entire aisle data as it contains the names related to the aisle IDs from the 'products' data\n",
    "aisles = pd.read_csv('aisles.csv')\n",
    "inspect_df('aisles', aisles)"
   ]
  },
  {
   "cell_type": "markdown",
   "metadata": {},
   "source": [
    "#### E. Load department data"
   ]
  },
  {
   "cell_type": "code",
   "execution_count": 7,
   "metadata": {},
   "outputs": [
    {
     "name": "stdout",
     "output_type": "stream",
     "text": [
      "departments --- dimensions: (21, 2);  size: 0.00 MB\n"
     ]
    },
    {
     "data": {
      "text/html": [
       "<div>\n",
       "<style>\n",
       "    .dataframe thead tr:only-child th {\n",
       "        text-align: right;\n",
       "    }\n",
       "\n",
       "    .dataframe thead th {\n",
       "        text-align: left;\n",
       "    }\n",
       "\n",
       "    .dataframe tbody tr th {\n",
       "        vertical-align: top;\n",
       "    }\n",
       "</style>\n",
       "<table border=\"1\" class=\"dataframe\">\n",
       "  <thead>\n",
       "    <tr style=\"text-align: right;\">\n",
       "      <th></th>\n",
       "      <th>department_id</th>\n",
       "      <th>department</th>\n",
       "    </tr>\n",
       "  </thead>\n",
       "  <tbody>\n",
       "    <tr>\n",
       "      <th>0</th>\n",
       "      <td>1</td>\n",
       "      <td>frozen</td>\n",
       "    </tr>\n",
       "    <tr>\n",
       "      <th>1</th>\n",
       "      <td>2</td>\n",
       "      <td>other</td>\n",
       "    </tr>\n",
       "    <tr>\n",
       "      <th>2</th>\n",
       "      <td>3</td>\n",
       "      <td>bakery</td>\n",
       "    </tr>\n",
       "    <tr>\n",
       "      <th>3</th>\n",
       "      <td>4</td>\n",
       "      <td>produce</td>\n",
       "    </tr>\n",
       "    <tr>\n",
       "      <th>4</th>\n",
       "      <td>5</td>\n",
       "      <td>alcohol</td>\n",
       "    </tr>\n",
       "  </tbody>\n",
       "</table>\n",
       "</div>"
      ],
      "text/plain": [
       "   department_id department\n",
       "0              1     frozen\n",
       "1              2      other\n",
       "2              3     bakery\n",
       "3              4    produce\n",
       "4              5    alcohol"
      ]
     },
     "metadata": {},
     "output_type": "display_data"
    }
   ],
   "source": [
    "# Load entire department data as it contains the names related to the department IDs from the 'products' data\n",
    "departments = pd.read_csv('departments.csv')\n",
    "inspect_df('departments', departments)"
   ]
  },
  {
   "cell_type": "markdown",
   "metadata": {},
   "source": [
    "#### F. Export dataframes to CSV, which in turn will be loaded into Neo4j"
   ]
  },
  {
   "cell_type": "code",
   "execution_count": 8,
   "metadata": {
    "collapsed": true
   },
   "outputs": [],
   "source": [
    "export_to_csv(order_user,    'ishwar_neo4j_order_user.csv')\n",
    "export_to_csv(order_product, 'ishwar_neo4j_order_product.csv')    \n",
    "export_to_csv(products,      'ishwar_neo4j_products.csv')\n",
    "export_to_csv(aisles,        'ishwar_neo4j_aisles.csv')\n",
    "export_to_csv(departments,   'ishwar_neo4j_departments.csv')"
   ]
  },
  {
   "cell_type": "markdown",
   "metadata": {},
   "source": [
    "### Part 2:  Create Neo4j Graph Database"
   ]
  },
  {
   "cell_type": "markdown",
   "metadata": {},
   "source": [
    "#### A. Set up authentication and connection to Neo4j"
   ]
  },
  {
   "cell_type": "code",
   "execution_count": 3,
   "metadata": {
    "collapsed": true
   },
   "outputs": [],
   "source": [
    "# py2neo allows us to work with Neo4j from within Python\n",
    "from py2neo import authenticate, Graph\n",
    "\n",
    "# Set up authentication parameters\n",
    "authenticate(\"localhost:7474\", \"neo4j\", \"ishwar\") \n",
    "\n",
    "# Connect to authenticated graph database\n",
    "g = Graph(\"http://localhost:7474/db/data/\")"
   ]
  },
  {
   "cell_type": "markdown",
   "metadata": {},
   "source": [
    "#### B. Start with an empty database, then create constraints to ensure uniqueness of nodes"
   ]
  },
  {
   "cell_type": "code",
   "execution_count": 4,
   "metadata": {},
   "outputs": [
    {
     "data": {
      "text/plain": [
       "<py2neo.database.Cursor at 0x10f5d2668>"
      ]
     },
     "execution_count": 4,
     "metadata": {},
     "output_type": "execute_result"
    }
   ],
   "source": [
    "# Each time this notebook is run, we start with an empty graph database\n",
    "g.run(\"MATCH (n) DETACH DELETE n;\")    \n",
    "\n",
    "# We drop and recreate our node constraints\n",
    "# g.run(\"DROP CONSTRAINT ON (order:Order)             ASSERT order.order_id            IS UNIQUE;\")\n",
    "# g.run(\"DROP CONSTRAINT ON (user:User)               ASSERT user.user_id              IS UNIQUE;\")\n",
    "# g.run(\"DROP CONSTRAINT ON (product:Product)         ASSERT product.product_id        IS UNIQUE;\")\n",
    "# g.run(\"DROP CONSTRAINT ON (aisle:Aisle)             ASSERT aisle.aisle_id            IS UNIQUE;\")\n",
    "# g.run(\"DROP CONSTRAINT ON (department:Department)   ASSERT department.department_id  IS UNIQUE;\")\n",
    "\n",
    "g.run(\"CREATE CONSTRAINT ON (order:Order)           ASSERT order.order_id            IS UNIQUE;\")\n",
    "g.run(\"CREATE CONSTRAINT ON (user:User)             ASSERT user.user_id              IS UNIQUE;\")\n",
    "g.run(\"CREATE CONSTRAINT ON (product:Product)       ASSERT product.product_id        IS UNIQUE;\")\n",
    "g.run(\"CREATE CONSTRAINT ON (aisle:Aisle)           ASSERT aisle.aisle_id            IS UNIQUE;\")\n",
    "g.run(\"CREATE CONSTRAINT ON (department:Department) ASSERT department.department_id  IS UNIQUE;\")"
   ]
  },
  {
   "cell_type": "markdown",
   "metadata": {},
   "source": [
    "#### C. Load product data into Neo4j"
   ]
  },
  {
   "cell_type": "code",
   "execution_count": 5,
   "metadata": {},
   "outputs": [
    {
     "data": {
      "text/plain": [
       "<py2neo.database.Cursor at 0x10e2415f8>"
      ]
     },
     "execution_count": 5,
     "metadata": {},
     "output_type": "execute_result"
    }
   ],
   "source": [
    "query = \"\"\"\n",
    "        // Load and commit every 500 records\n",
    "        USING PERIODIC COMMIT 500 \n",
    "        LOAD CSV WITH HEADERS FROM 'file:///ishwar_neo4j_products.csv' AS line FIELDTERMINATOR '|' \n",
    "        WITH line \n",
    "        \n",
    "        // Create Product, Aisle and Department nodes\n",
    "        CREATE (product:Product {product_id: toInteger(line.product_id), product_name: line.product_name}) \n",
    "        MERGE  (aisle:Aisle {aisle_id: toInteger(line.aisle_id)}) \n",
    "        MERGE  (department:Department {department_id: toInteger(line.department_id)}) \n",
    "\n",
    "        // Create relationships between products and aisles & products and departments \n",
    "        CREATE (product)-[:IN_AISLE]->(aisle) \n",
    "        CREATE (product)-[:IN_DEPARTMENT]->(department);\n",
    "        \"\"\"\n",
    "\n",
    "g.run(query)"
   ]
  },
  {
   "cell_type": "markdown",
   "metadata": {},
   "source": [
    "#### D. Load aisle data into Neo4j"
   ]
  },
  {
   "cell_type": "code",
   "execution_count": 6,
   "metadata": {},
   "outputs": [
    {
     "data": {
      "text/plain": [
       "<py2neo.database.Cursor at 0x10e2415c0>"
      ]
     },
     "execution_count": 6,
     "metadata": {},
     "output_type": "execute_result"
    }
   ],
   "source": [
    "query = \"\"\"\n",
    "        // Aisle data is very small, so there is no need to do periodic commits\n",
    "        LOAD CSV WITH HEADERS FROM 'file:///ishwar_neo4j_aisles.csv' AS line FIELDTERMINATOR '|' \n",
    "        WITH line \n",
    "        \n",
    "        // For each Aisle node, set property 'aisle_name' \n",
    "        MATCH (aisle:Aisle {aisle_id: toInteger(line.aisle_id)}) \n",
    "        SET aisle.aisle_name = line.aisle;\n",
    "        \"\"\"\n",
    "\n",
    "g.run(query)"
   ]
  },
  {
   "cell_type": "markdown",
   "metadata": {},
   "source": [
    "#### E. Load department data into Neo4j"
   ]
  },
  {
   "cell_type": "code",
   "execution_count": 7,
   "metadata": {
    "scrolled": true
   },
   "outputs": [
    {
     "data": {
      "text/plain": [
       "<py2neo.database.Cursor at 0x10b68ce10>"
      ]
     },
     "execution_count": 7,
     "metadata": {},
     "output_type": "execute_result"
    }
   ],
   "source": [
    "query = \"\"\"\n",
    "        // Department data is very small, so there is no need to do periodic commits\n",
    "        LOAD CSV WITH HEADERS FROM 'file:///ishwar_neo4j_departments.csv' AS line FIELDTERMINATOR '|' \n",
    "        WITH line\n",
    "        \n",
    "        // For each Department node, set property 'department_name' \n",
    "        MATCH (department:Department {department_id: toInteger(line.department_id)}) \n",
    "        SET department.department_name = line.department;\n",
    "        \"\"\"\n",
    "\n",
    "g.run(query)"
   ]
  },
  {
   "cell_type": "markdown",
   "metadata": {},
   "source": [
    "#### F. Load order details data into Neo4j"
   ]
  },
  {
   "cell_type": "code",
   "execution_count": 8,
   "metadata": {},
   "outputs": [
    {
     "data": {
      "text/plain": [
       "<py2neo.database.Cursor at 0x10e241470>"
      ]
     },
     "execution_count": 8,
     "metadata": {},
     "output_type": "execute_result"
    }
   ],
   "source": [
    "query = \"\"\"\n",
    "        // Load and commit every 500 records        \n",
    "        USING PERIODIC COMMIT 500\n",
    "        LOAD CSV WITH HEADERS FROM 'file:///ishwar_neo4j_order_product.csv' AS line FIELDTERMINATOR '|'\n",
    "        WITH line\n",
    "        \n",
    "        // Create Order nodes and then create relationships between orders and products\n",
    "        MERGE (order:Order {order_id: toInteger(line.order_id)})\n",
    "        MERGE (product:Product {product_id: toInteger(line.product_id)})\n",
    "        CREATE (order)-[:CONTAINS]->(product);\n",
    "        \"\"\"\n",
    "\n",
    "g.run(query)"
   ]
  },
  {
   "cell_type": "markdown",
   "metadata": {},
   "source": [
    "#### G. Load user order data  into Neo4j"
   ]
  },
  {
   "cell_type": "code",
   "execution_count": 9,
   "metadata": {},
   "outputs": [
    {
     "data": {
      "text/plain": [
       "<py2neo.database.Cursor at 0x10e241588>"
      ]
     },
     "execution_count": 9,
     "metadata": {},
     "output_type": "execute_result"
    }
   ],
   "source": [
    "query = \"\"\"\n",
    "        // Load and commit every 500 records \n",
    "        USING PERIODIC COMMIT 500\n",
    "        LOAD CSV WITH HEADERS FROM 'file:///ishwar_neo4j_order_user.csv' AS line FIELDTERMINATOR '|'\n",
    "        WITH line\n",
    "        \n",
    "        // Create User nodes and then create relationships between users and orders \n",
    "        MERGE (order:Order {order_id: toInteger(line.order_id)})\n",
    "        MERGE (user:User   {user_id:  toInteger(line.user_id)})\n",
    "\n",
    "        // Create relationships between users and orders, then set Order properties\n",
    "        CREATE(user)-[o:ORDERED]->(order)              \n",
    "        SET order.order_number = toInteger(line.order_number),\n",
    "            order.order_day_of_week = toInteger(line.order_dow), \n",
    "            order.order_hour_of_day = toInteger(line.order_hour_of_day);\n",
    "        \"\"\"\n",
    "\n",
    "g.run(query)"
   ]
  },
  {
   "cell_type": "markdown",
   "metadata": {},
   "source": [
    "### Part 3: Implement User-User Collaborative Filtering Algorithm"
   ]
  },
  {
   "cell_type": "code",
   "execution_count": 10,
   "metadata": {
    "collapsed": true
   },
   "outputs": [],
   "source": [
    "# Implements user-user collaborative filtering using the following steps:\n",
    "#   1. For each user pair, compute Jaccard index\n",
    "#   2. For each target user, select top k neighbours based on Jaccard index\n",
    "#   3. Identify products purchased by the top k neighbours that have not been purchased by the target user\n",
    "#   4. Rank these products by the number of purchasing neighbours\n",
    "#   5. Return the top n recommendations for each user\n",
    "\n",
    "def collaborative_filtering(graph, neighbourhood_size, num_recos):\n",
    "\n",
    "    query = \"\"\"\n",
    "           // Get user pairs and count of distinct products that they have both purchased\n",
    "           MATCH (u1:User)-[:ORDERED]->(:Order)-[:CONTAINS]->(p:Product)<-[:CONTAINS]-(:Order)<-[:ORDERED]-(u2:User)\n",
    "           WHERE u1 <> u2\n",
    "           WITH u1, u2, COUNT(DISTINCT p) as intersection_count\n",
    "\n",
    "           // Get count of all the distinct products that they have purchased between them\n",
    "           MATCH (u:User)-[:ORDERED]->(:Order)-[:CONTAINS]->(p:Product)\n",
    "           WHERE u in [u1, u2]\n",
    "           WITH u1, u2, intersection_count, COUNT(DISTINCT p) as union_count\n",
    "\n",
    "           // Compute Jaccard index\n",
    "           WITH u1, u2, intersection_count, union_count, (intersection_count*1.0/union_count) as jaccard_index\n",
    "\n",
    "           // Get top k neighbours based on Jaccard index\n",
    "           ORDER BY jaccard_index DESC, u2.user_id\n",
    "           WITH u1, COLLECT(u2)[0..{k}] as neighbours\n",
    "           WHERE LENGTH(neighbours) = {k}                                              // only want users with enough neighbours\n",
    "           UNWIND neighbours as neighbour\n",
    "           WITH u1, neighbour\n",
    "\n",
    "           // Get top n recommendations from the selected neighbours\n",
    "           MATCH (neighbour)-[:ORDERED]->(:Order)-[:CONTAINS]->(p:Product)             // get all products bought by neighbour\n",
    "           WHERE not (u1)-[:ORDERED]->(:Order)-[:CONTAINS]->(p)                        // which target user has not already bought\n",
    "           WITH u1, p, COUNT(DISTINCT neighbour) as cnt                                // count neighbours who purchased product\n",
    "           ORDER BY u1.user_id, cnt DESC                                               // sort by count desc\n",
    "           RETURN u1.user_id as user, COLLECT(p.product_name)[0..{n}] as recos         // return top n products\n",
    "           \"\"\"\n",
    "\n",
    "    recos = {}\n",
    "    for row in graph.run(query, k=neighbourhood_size, n=num_recos):\n",
    "        recos[row[0]] = row[1]\n",
    "\n",
    "    return recos"
   ]
  },
  {
   "cell_type": "markdown",
   "metadata": {},
   "source": [
    "### Part 4: Execute User-User Collaborative Filtering"
   ]
  },
  {
   "cell_type": "code",
   "execution_count": 11,
   "metadata": {},
   "outputs": [
    {
     "name": "stdout",
     "output_type": "stream",
     "text": [
      "CPU times: user 24.3 ms, sys: 3.17 ms, total: 27.4 ms\n",
      "Wall time: 53.4 s\n"
     ]
    }
   ],
   "source": [
    "%%time\n",
    "recommendations = collaborative_filtering(g,10,10)"
   ]
  },
  {
   "cell_type": "code",
   "execution_count": 12,
   "metadata": {},
   "outputs": [
    {
     "name": "stdout",
     "output_type": "stream",
     "text": [
      "Labels for user 4789's neighbour list: user_id, jaccard_index, intersection_count, union count\n"
     ]
    },
    {
     "data": {
      "text/plain": [
       "{4789: [[42145, 0.12794612794612795, 38, 297],\n",
       "  [138203, 0.10497237569060773, 38, 362],\n",
       "  [87350, 0.09390862944162437, 37, 394],\n",
       "  [49441, 0.0912280701754386, 26, 285],\n",
       "  [187754, 0.0912280701754386, 26, 285],\n",
       "  [180461, 0.09115281501340483, 34, 373],\n",
       "  [120660, 0.08641975308641975, 21, 243],\n",
       "  [107931, 0.08360128617363344, 26, 311],\n",
       "  [73477, 0.07855626326963906, 37, 471],\n",
       "  [154852, 0.0735930735930736, 17, 231]]}"
      ]
     },
     "metadata": {},
     "output_type": "display_data"
    }
   ],
   "source": [
    "query = \"\"\"\n",
    "        // Get count of all distinct products that user 4789 has purchased and find other users who have purchased them\n",
    "        MATCH (u1:User)-[:ORDERED]->(:Order)-[:CONTAINS]->(p:Product)<-[:CONTAINS]-(:Order)<-[:ORDERED]-(u2:User)\n",
    "        WHERE u1 <> u2\n",
    "          AND u1.user_id = {uid}\n",
    "        WITH u1, u2, COUNT(DISTINCT p) as intersection_count\n",
    "        \n",
    "        // Get count of all the distinct products that are unique to each user\n",
    "        MATCH (u:User)-[:ORDERED]->(:Order)-[:CONTAINS]->(p:Product)\n",
    "        WHERE u in [u1, u2]\n",
    "        WITH u1, u2, intersection_count, COUNT(DISTINCT p) as union_count\n",
    "       \n",
    "        // Compute Jaccard index\n",
    "        WITH u1, u2, intersection_count, union_count, (intersection_count*1.0/union_count) as jaccard_index\n",
    "        \n",
    "        // Get top k neighbours based on Jaccard index\n",
    "        ORDER BY jaccard_index DESC, u2.user_id\n",
    "        WITH u1, COLLECT([u2.user_id, jaccard_index, intersection_count, union_count])[0..{k}] as neighbours\n",
    "     \n",
    "        WHERE LENGTH(neighbours) = {k}                // only want to return users with enough neighbours\n",
    "        RETURN u1.user_id as user, neighbours\n",
    "        \"\"\"\n",
    "\n",
    "neighbours = {}\n",
    "for row in g.run(query, uid=4789, k=10):\n",
    "    neighbours[row[0]] = row[1]\n",
    "\n",
    "print(\"Labels for user 4789's neighbour list: user_id, jaccard_index, intersection_count, union count\")\n",
    "display(neighbours)"
   ]
  },
  {
   "cell_type": "code",
   "execution_count": 13,
   "metadata": {},
   "outputs": [
    {
     "name": "stdout",
     "output_type": "stream",
     "text": [
      "Labels for user 4789's recommendations list: product, number of purchasing neighbours\n"
     ]
    },
    {
     "data": {
      "text/plain": [
       "{4789: [['Organic Granny Smith Apple', 6],\n",
       "  ['Creamy Almond Butter', 5],\n",
       "  ['Organic Green Cabbage', 5],\n",
       "  ['Organic Grape Tomatoes', 5],\n",
       "  ['Corn Tortillas', 5],\n",
       "  ['Organic Cilantro', 5],\n",
       "  ['Limes', 5],\n",
       "  ['Sugar Snap Peas', 4],\n",
       "  ['Organic Lacinato (Dinosaur) Kale', 4],\n",
       "  ['Carrots', 4]]}"
      ]
     },
     "metadata": {},
     "output_type": "display_data"
    },
    {
     "name": "stdout",
     "output_type": "stream",
     "text": [
      "CPU times: user 6.02 ms, sys: 4.86 ms, total: 10.9 ms\n",
      "Wall time: 724 ms\n"
     ]
    }
   ],
   "source": [
    "%%time\n",
    "query = \"\"\"\n",
    "        // Get top n recommendations for user 4789 from the selected neighbours\n",
    "        MATCH (u1:User),\n",
    "              (neighbour:User)-[:ORDERED]->(:Order)-[:CONTAINS]->(p:Product)        // get all products bought by neighbour\n",
    "        WHERE u1.user_id = {uid}\n",
    "          AND neighbour.user_id in {neighbours}\n",
    "          AND not (u1)-[:ORDERED]->(:Order)-[:CONTAINS]->(p)                        // which u1 has not already bought\n",
    "        \n",
    "        WITH u1, p, COUNT(DISTINCT neighbour) as cnt                                // count times purchased by neighbours\n",
    "        ORDER BY u1.user_id, cnt DESC                                               // and sort by count desc\n",
    "        RETURN u1.user_id as user, COLLECT([p.product_name,cnt])[0..{n}] as recos  \n",
    "        \"\"\"\n",
    "\n",
    "recos = {}\n",
    "for row in g.run(query, uid=4789, neighbours=[42145,138203,87350,49441,187754,180461,120660,107931,73477,154852], n=10):\n",
    "    recos[row[0]] = row[1]\n",
    "    \n",
    "print(\"Labels for user 4789's recommendations list: product, number of purchasing neighbours\")\n",
    "display(recos)"
   ]
  },
  {
   "cell_type": "code",
   "execution_count": null,
   "metadata": {
    "collapsed": true
   },
   "outputs": [],
   "source": []
  }
 ],
 "metadata": {
  "kernelspec": {
   "display_name": "Python 2",
   "language": "python",
   "name": "python2"
  },
  "language_info": {
   "codemirror_mode": {
    "name": "ipython",
    "version": 2
   },
   "file_extension": ".py",
   "mimetype": "text/x-python",
   "name": "python",
   "nbconvert_exporter": "python",
   "pygments_lexer": "ipython2",
   "version": "2.7.14"
  }
 },
 "nbformat": 4,
 "nbformat_minor": 2
}
