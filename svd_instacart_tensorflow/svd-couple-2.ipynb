{
 "cells": [
  {
   "cell_type": "code",
   "execution_count": 49,
   "metadata": {
    "collapsed": true
   },
   "outputs": [],
   "source": [
    "import time\n",
    "from collections import deque\n",
    "import csv\n",
    "import numpy as np\n",
    "import tensorflow as tf\n",
    "from six import next\n",
    "from tensorflow.core.framework import summary_pb2\n",
    "import pandas as pd\n",
    "import dataio\n",
    "import ops\n",
    "import pymongo\n",
    "from pymongo import MongoClient\n",
    "import datetime\n"
   ]
  },
  {
   "cell_type": "code",
   "execution_count": 2,
   "metadata": {
    "collapsed": true
   },
   "outputs": [],
   "source": [
    "np.random.seed(13575)\n",
    "\n",
    "BATCH_SIZE = 100\n",
    "USER_NUM =  206202\n",
    "ITEM_NUM = 32\n",
    "DIM = 15\n",
    "EPOCH_MAX = 100\n",
    "DEVICE = \"/cpu:0\""
   ]
  },
  {
   "cell_type": "code",
   "execution_count": 3,
   "metadata": {
    "collapsed": true
   },
   "outputs": [],
   "source": [
    "def clip(x):\n",
    "    return np.clip(x, 1.0, None)\n",
    "\n",
    "\n",
    "def make_scalar_summary(name, val):\n",
    "    return summary_pb2.Summary(value=[summary_pb2.Summary.Value(tag=name, simple_value=val)])\n",
    "\n",
    "\n",
    "def get_data():\n",
    "    df = dataio.read_process(\"data/user_basket_size.csv\", sep=\",\")\n",
    "    df['group_indicator'] = (df.ix[:,0] != df.ix[:,0].shift(-1)).astype(int)\n",
    "\n",
    "    df_train = df.loc[df.group_indicator==0]\n",
    "    df_train = df_train.drop('group_indicator', axis=1)\n",
    "\n",
    "    df_test =  df.loc[df.group_indicator==1]\n",
    "    df_test = df_test.drop('group_indicator', axis=1)\n",
    "    df = df.drop('group_indicator', axis=1)\n",
    "\n",
    "    return df_train, df_test"
   ]
  },
  {
   "cell_type": "code",
   "execution_count": 4,
   "metadata": {
    "collapsed": true
   },
   "outputs": [],
   "source": [
    "def svd(train, test):\n",
    "    samples_per_batch = len(train) // BATCH_SIZE\n",
    "    print test.head(10)\n",
    "    iter_train = dataio.ShuffleIterator([train[\"user\"],\n",
    "                                         train[\"days_since_prior_order\"],\n",
    "                                         train[\"basket_size\"]],\n",
    "                                        batch_size=BATCH_SIZE)\n",
    "\n",
    "    iter_test = dataio.OneEpochIterator([test[\"user\"],\n",
    "                                         test[\"days_since_prior_order\"],\n",
    "                                         test[\"basket_size\"]],\n",
    "                                        batch_size=-1)\n",
    "\n",
    "    user_batch = tf.placeholder(tf.int32, shape=[None], name=\"id_user\")\n",
    "    days_since_prior_order_batch = tf.placeholder(tf.int32, shape=[None], name=\"id_days_since_prior_order\")\n",
    "    basket_size_batch = tf.placeholder(tf.float32, shape=[None])\n",
    "\n",
    "    infer, regularizer = ops.inference_svd(user_batch, days_since_prior_order_batch, user_num=USER_NUM, item_num=ITEM_NUM, dim=DIM,\n",
    "                                           device=DEVICE)\n",
    "    global_step = tf.contrib.framework.get_or_create_global_step()\n",
    "    _, train_op = ops.optimization(infer, regularizer, basket_size_batch, learning_rate=0.001, reg=0.05, device=DEVICE)\n",
    "\n",
    "    init_op = tf.global_variables_initializer()\n",
    "    with tf.Session() as sess:\n",
    "        sess.run(init_op)\n",
    "        summary_writer = tf.summary.FileWriter(logdir=\"/tmp/svd/log\", graph=sess.graph)\n",
    "        print(\"{} {} {} {}\".format(\"epoch\", \"train_error\", \"val_error\", \"elapsed_time\"))\n",
    "        errors = deque(maxlen=samples_per_batch)\n",
    "        start = time.time()\n",
    "        min = 100\n",
    "        predList = []\n",
    "        actList = []\n",
    "        finalPred = []\n",
    "        finalAct = []\n",
    "        finalpr = []\n",
    "        finalac = []\n",
    "        for i in range(EPOCH_MAX * samples_per_batch):\n",
    "\n",
    "            users, days_since_prior_orders, basket_sizes = next(iter_train)\n",
    "            _, pred_batch = sess.run([train_op, infer], feed_dict={user_batch: users,\n",
    "                                                                   days_since_prior_order_batch: days_since_prior_orders,\n",
    "                                                                   basket_size_batch: basket_sizes})\n",
    "            pred_batch = clip(pred_batch)\n",
    "            errors.append(np.power(pred_batch - basket_sizes, 2))\n",
    "            if i % samples_per_batch == 0:\n",
    "                train_err = np.sqrt(np.mean(errors))\n",
    "                test_err2 = np.array([])\n",
    "                for users, days_since_prior_orders, basket_sizes in iter_test:\n",
    "                    pred_batch = sess.run(infer, feed_dict={user_batch: users,\n",
    "                                                            days_since_prior_order_batch: days_since_prior_orders})\n",
    "                    #pred_batch = clip(pred_batch)\n",
    "                    test_err2 = np.append(test_err2, np.power(pred_batch - basket_sizes, 2))\n",
    "\n",
    "                    pr = pred_batch\n",
    "                    ac = basket_sizes\n",
    "                end = time.time()\n",
    "                test_err = np.sqrt(np.mean(test_err2))\n",
    "                print(\"{:3d} {:f} {:f} {:f}(s)\".format(i // samples_per_batch, train_err, test_err,\n",
    "                                                       end - start))\n",
    "                train_err_summary = make_scalar_summary(\"training_error\", train_err)\n",
    "                test_err_summary = make_scalar_summary(\"test_error\", test_err)\n",
    "                summary_writer.add_summary(train_err_summary, i)\n",
    "                summary_writer.add_summary(test_err_summary, i)\n",
    "                start = end\n",
    "\n",
    "                if train_err < min:\n",
    "                    min = train_err\n",
    "                    finalpr = pr\n",
    "                    finalac = ac\n",
    "\n",
    "        return finalpr, finalac"
   ]
  },
  {
   "cell_type": "code",
   "execution_count": 5,
   "metadata": {},
   "outputs": [
    {
     "name": "stdout",
     "output_type": "stream",
     "text": [
      "    user  days_since_prior_order  basket_size       st\n",
      "5      1                      19          4.0  3367565\n",
      "11   201                       6          9.0  3056620\n",
      "16   401                      31          2.0  3088579\n",
      "21   601                      30         14.0  2155743\n",
      "27   801                      31          2.0  3007470\n",
      "32  1001                      31         17.0  3020360\n",
      "37  1201                      28          4.0  3332416\n",
      "43  1401                      30          6.0  3018159\n",
      "49  1601                       5          7.0  3136784\n",
      "53  1801                       5          3.0  3233025\n",
      "epoch train_error val_error elapsed_time\n",
      "  0 11.435908 12.478551 0.088045(s)\n",
      "  1 11.776064 12.402349 1.293321(s)\n",
      "  2 11.843151 12.323633 1.180987(s)\n",
      "  3 11.813773 12.237721 1.178559(s)\n",
      "  4 12.051254 12.140120 1.178191(s)\n",
      "  5 11.769066 12.027857 1.197734(s)\n",
      "  6 11.757401 11.898135 1.189355(s)\n",
      "  7 12.023698 11.750636 1.188937(s)\n",
      "  8 11.630015 11.585739 1.185149(s)\n",
      "  9 11.698745 11.402171 1.203198(s)\n",
      " 10 11.505884 11.202288 1.190464(s)\n",
      " 11 11.541805 10.990848 1.194757(s)\n",
      " 12 10.858174 10.771346 1.176301(s)\n",
      " 13 10.777910 10.546649 1.191758(s)\n",
      " 14 10.375743 10.315845 1.180343(s)\n",
      " 15 10.365081 10.079126 1.181912(s)\n",
      " 16 10.003980 9.834540 1.190866(s)\n",
      " 17 9.724969 9.595798 1.208573(s)\n",
      " 18 9.646060 9.359006 1.189309(s)\n",
      " 19 9.360232 9.124678 1.173160(s)\n",
      " 20 9.124936 8.890323 1.208384(s)\n",
      " 21 8.886746 8.664892 1.188026(s)\n",
      " 22 8.411764 8.446029 1.170889(s)\n",
      " 23 8.223534 8.234515 1.192868(s)\n",
      " 24 7.954429 8.037776 1.189759(s)\n",
      " 25 7.668146 7.849241 1.199320(s)\n",
      " 26 7.479727 7.666911 1.199864(s)\n",
      " 27 7.205291 7.503050 1.192033(s)\n",
      " 28 7.594225 7.328141 1.191288(s)\n",
      " 29 7.059032 7.169208 1.193681(s)\n",
      " 30 7.042614 7.015482 1.183755(s)\n",
      " 31 6.504661 6.879459 1.189777(s)\n",
      " 32 6.382959 6.750193 1.183627(s)\n",
      " 33 6.277620 6.632942 1.191001(s)\n",
      " 34 6.161683 6.528951 1.185254(s)\n",
      " 35 6.164473 6.423478 1.202065(s)\n",
      " 36 6.187411 6.328083 1.186191(s)\n",
      " 37 5.695705 6.243607 1.185658(s)\n",
      " 38 5.662162 6.173481 1.186457(s)\n",
      " 39 5.687070 6.102762 1.185378(s)\n",
      " 40 5.407432 6.035078 1.181576(s)\n",
      " 41 5.444189 5.972815 1.193797(s)\n",
      " 42 5.272251 5.914777 1.171151(s)\n",
      " 43 5.116449 5.865033 1.182382(s)\n",
      " 44 4.982209 5.821366 1.180958(s)\n",
      " 45 5.040729 5.778728 1.191050(s)\n",
      " 46 5.113619 5.732572 1.255611(s)\n",
      " 47 4.883041 5.703431 1.432948(s)\n",
      " 48 4.692844 5.674726 1.355094(s)\n",
      " 49 4.523050 5.654889 1.223337(s)\n",
      " 50 4.571701 5.631182 1.186312(s)\n",
      " 51 4.950157 5.607699 1.180481(s)\n",
      " 52 4.552126 5.585163 1.173637(s)\n",
      " 53 4.395775 5.562657 1.166775(s)\n",
      " 54 4.504543 5.539851 1.194570(s)\n",
      " 55 4.336011 5.526197 1.182802(s)\n",
      " 56 4.344071 5.519522 1.187467(s)\n",
      " 57 4.230076 5.507510 1.188283(s)\n",
      " 58 4.326888 5.503954 1.177346(s)\n",
      " 59 4.398682 5.493207 1.204159(s)\n",
      " 60 4.316805 5.485347 1.182529(s)\n",
      " 61 4.190673 5.482816 1.196972(s)\n",
      " 62 4.092657 5.480734 1.175997(s)\n",
      " 63 3.989830 5.476802 1.206167(s)\n",
      " 64 4.020338 5.474423 1.182474(s)\n",
      " 65 4.221327 5.466230 1.182027(s)\n",
      " 66 3.876378 5.458011 1.185131(s)\n",
      " 67 4.061760 5.450307 1.203567(s)\n",
      " 68 3.757816 5.451463 1.191970(s)\n",
      " 69 3.880468 5.453508 1.182657(s)\n",
      " 70 3.915668 5.461970 1.195766(s)\n",
      " 71 3.860280 5.468799 1.213812(s)\n",
      " 72 3.902124 5.468142 1.180713(s)\n",
      " 73 3.879849 5.463508 1.192336(s)\n",
      " 74 3.847319 5.463384 1.174085(s)\n",
      " 75 3.630274 5.468613 1.176874(s)\n",
      " 76 3.842806 5.474779 1.194728(s)\n",
      " 77 3.661946 5.481398 1.182012(s)\n",
      " 78 3.937162 5.487495 1.173573(s)\n",
      " 79 3.674484 5.490271 1.184067(s)\n",
      " 80 3.651536 5.499381 1.281050(s)\n",
      " 81 3.591695 5.499694 1.433407(s)\n",
      " 82 3.730730 5.504351 1.237538(s)\n",
      " 83 3.446989 5.510255 1.188101(s)\n",
      " 84 3.623894 5.516737 1.191584(s)\n",
      " 85 3.523089 5.521007 1.172939(s)\n",
      " 86 3.554785 5.522276 1.202421(s)\n",
      " 87 3.580240 5.532321 1.197359(s)\n",
      " 88 3.631137 5.540237 1.184727(s)\n",
      " 89 3.581409 5.544969 1.182005(s)\n",
      " 90 3.444497 5.553544 1.173776(s)\n",
      " 91 3.447030 5.562388 1.188485(s)\n",
      " 92 3.472542 5.572403 1.177457(s)\n",
      " 93 3.437878 5.575581 1.194678(s)\n",
      " 94 3.479098 5.584087 1.178409(s)\n",
      " 95 3.315177 5.585904 1.175469(s)\n",
      " 96 3.299034 5.595166 1.193006(s)\n",
      " 97 3.353308 5.599498 1.178176(s)\n",
      " 98 3.388068 5.609010 1.275878(s)\n",
      " 99 3.407016 5.615085 1.184204(s)\n",
      "[  7.42591143   4.54696846  17.01899719 ...,  28.35375214  16.31574249\n",
      "  19.33382416] <type 'numpy.ndarray'> [  4.   9.   2. ...,  20.   5.  12.] <type 'numpy.ndarray'>\n",
      "    user  days_since_prior_order  basket_size       st\n",
      "5      1                      19          4.0  3367565\n",
      "11   201                       6          9.0  3056620\n",
      "16   401                      31          2.0  3088579\n",
      "21   601                      30         14.0  2155743\n",
      "27   801                      31          2.0  3007470\n",
      "32  1001                      31         17.0  3020360\n",
      "37  1201                      28          4.0  3332416\n",
      "43  1401                      30          6.0  3018159\n",
      "49  1601                       5          7.0  3136784\n",
      "53  1801                       5          3.0  3233025\n"
     ]
    }
   ],
   "source": [
    "if __name__ == '__main__':\n",
    "    df_train, df_test = get_data()\n",
    "    pr, ac = svd(df_train, df_test)\n",
    "    print pr, type(pr), ac, type(ac)\n",
    "    prdf = pd.DataFrame(pr)\n",
    "    acdf = pd.DataFrame(ac)\n",
    "    print df_test.head(10)\n",
    "\n",
    "    result = pd.concat([prdf, acdf], axis=1)"
   ]
  },
  {
   "cell_type": "code",
   "execution_count": 7,
   "metadata": {
    "collapsed": true
   },
   "outputs": [],
   "source": [
    "import numpy as np # linear algebra\n",
    "import pprint\n",
    "import pandas as pd # data processing, CSV file I/O (e.g. pd.read_csv)\n",
    "import matplotlib.pyplot as plt\n",
    "import seaborn as sns\n",
    "import csv"
   ]
  },
  {
   "cell_type": "code",
   "execution_count": 8,
   "metadata": {
    "collapsed": true
   },
   "outputs": [],
   "source": [
    "orders = pd.read_csv(\"data/orders_train_test.csv\")\n",
    "prior = pd.read_csv(\"data/order_products__prior.csv\")\n",
    "train = pd.read_csv(\"data/order_products__train.csv\")"
   ]
  },
  {
   "cell_type": "code",
   "execution_count": 9,
   "metadata": {
    "collapsed": true
   },
   "outputs": [],
   "source": [
    "frames = [prior, train]\n",
    "products = result = pd.concat(frames)"
   ]
  },
  {
   "cell_type": "code",
   "execution_count": 10,
   "metadata": {},
   "outputs": [
    {
     "name": "stdout",
     "output_type": "stream",
     "text": [
      "   order_id  user_id  days_since_prior_order  basket_size  order_seq  \\\n",
      "0   1187899        1                    14.0           11          5   \n",
      "1   1187899        1                    14.0           11          5   \n",
      "2   1187899        1                    14.0           11          5   \n",
      "3   1187899        1                    14.0           11          5   \n",
      "4   1187899        1                    14.0           11          5   \n",
      "5   1187899        1                    14.0           11          5   \n",
      "6   1187899        1                    14.0           11          5   \n",
      "7   1187899        1                    14.0           11          5   \n",
      "8   1187899        1                    14.0           11          5   \n",
      "9   1187899        1                    14.0           11          5   \n",
      "\n",
      "   group_indicator  product_id  add_to_cart_order  reordered  \n",
      "0                1         196                  1          1  \n",
      "1                1       25133                  2          1  \n",
      "2                1       38928                  3          1  \n",
      "3                1       26405                  4          1  \n",
      "4                1       39657                  5          1  \n",
      "5                1       10258                  6          1  \n",
      "6                1       13032                  7          1  \n",
      "7                1       26088                  8          1  \n",
      "8                1       27845                  9          0  \n",
      "9                1       49235                 10          1  \n",
      "   user_id  order_id  product_id\n",
      "0        1   1187899         196\n",
      "1        1   1187899       25133\n",
      "2        1   1187899       38928\n",
      "3        1   1187899       26405\n",
      "4        1   1187899       39657\n",
      "5        1   1187899       10258\n",
      "6        1   1187899       13032\n",
      "7        1   1187899       26088\n",
      "8        1   1187899       27845\n",
      "9        1   1187899       49235\n",
      "user_id  order_id\n",
      "1        1187899     [196, 25133, 38928, 26405, 39657, 10258, 13032...\n",
      "201      2780124                                    [329, 9337, 43129]\n",
      "401      2534943     [44359, 40516, 9092, 49683, 25890, 5876, 47766...\n",
      "601      1181707     [30440, 39527, 5450, 17044, 26668, 44283, 4270...\n",
      "801      1553088                   [17027, 11576, 40706, 43789, 13640]\n",
      "1001     138116      [9508, 28199, 33894, 7606, 20955, 17339, 30597...\n",
      "1201     3319698                           [42450, 38241, 23106, 7533]\n",
      "1401     2770748     [15472, 26910, 49296, 42460, 19871, 45388, 350...\n",
      "1601     248747      [42768, 9666, 12703, 21174, 21616, 11199, 7751...\n",
      "1801     2994726                    [21137, 34243, 2124, 48679, 27845]\n",
      "Name: product_id, dtype: object\n"
     ]
    }
   ],
   "source": [
    "orders = orders.loc[orders['group_indicator'] == 1]\n",
    "\n",
    "# find the products that were actually bought in the last order of every user\n",
    "test_orders = pd.merge(orders, products, on='order_id')\n",
    "print test_orders.head(10)\n",
    "\n",
    "test_orders2 = test_orders[['user_id', 'order_id', 'product_id']]\n",
    "print test_orders2.head(10)\n",
    "\n",
    "# create a list of lists\n",
    "# list of the last order of each user\n",
    "# containing lists of the products that each user bought in his last order\n",
    "test_orders2 =  test_orders2.groupby(['user_id', 'order_id'])['product_id'].apply(list)\n",
    "print test_orders2.head(10)\n",
    "#filename = 'actual_products.csv'\n",
    "#test_orders2.to_csv(filename, index=False, encoding='utf-8', header=False)\n",
    "\n",
    "\n",
    "test_set = pd.read_csv(\"data/test_set_.csv\", names = [\"user_id\", \"days_since_prior_order\", \"basket\", \"order_id\"])\n",
    "# the next dataset contains the predicted basket size of the next basket (output of svd_train_val.py)\n",
    "preds = pd.read_csv(\"data/pred-actual.csv\",  names = [\"pred\", \"actual\"])\n",
    "# this dataset contains statistics concerning users' consumer behaviour\n",
    "user_prod_stats = pd.read_csv(\"data/user_product_stats.csv\")\n",
    "#act_prods = pd.read_csv(\"data/actual_products.csv\")\n"
   ]
  },
  {
   "cell_type": "code",
   "execution_count": 11,
   "metadata": {
    "collapsed": true
   },
   "outputs": [],
   "source": [
    "test_preds = pd.concat([test_set, preds], axis=1)\n",
    "\n",
    "pred_prods =pd.DataFrame()\n",
    "l=int(len(test_set))\n",
    "c=int(1)\n",
    "final_pred_prods = []\n",
    "final_pred_prods2 = pd.DataFrame()"
   ]
  },
  {
   "cell_type": "code",
   "execution_count": 24,
   "metadata": {
    "scrolled": true
   },
   "outputs": [
    {
     "name": "stdout",
     "output_type": "stream",
     "text": [
      "206201.0\n"
     ]
    }
   ],
   "source": [
    "i = 0\n",
    "\n",
    "# iterate through the dataframe containing the user_id and the predicted number of his next basket\n",
    "\n",
    "# for every user check the predicted size of his next basket and accordingly predict the products that he buy\n",
    "\n",
    "# the prediction of the next basket products depends on the following:\n",
    "# 1. predicted basket size\n",
    "# 2. the preferences of the user,\n",
    "sample_user = ''\n",
    "sample_size = ''\n",
    "sample_reco = ''\n",
    "for index, row in test_preds.iterrows():\n",
    "     user_stats = []\n",
    "     basket_size = int(round(row['pred'],0))\n",
    "     user = row['user_id']\n",
    "\n",
    "     user_stats = user_prod_stats.loc[user_prod_stats['user_id'] == user]\n",
    "     user_products = user_stats['product_id']\n",
    "\n",
    "     pred_prods  =  user_products.head(basket_size)\n",
    "     df_row = pred_prods.tolist()\n",
    "     sample_user = user\n",
    "     sample_size = basket_size\n",
    "     sample_reco = pred_prods\n",
    "     final_pred_prods.append(df_row)\n",
    "\n",
    "     i = i+1\n",
    "\n",
    "print sample_user\n",
    "# print sample_size\n",
    "# print sample_reco"
   ]
  },
  {
   "cell_type": "code",
   "execution_count": 109,
   "metadata": {},
   "outputs": [
    {
     "data": {
      "text/plain": [
       "0            1\n",
       "1          201\n",
       "2          401\n",
       "3          601\n",
       "4          801\n",
       "5         1001\n",
       "6         1201\n",
       "7         1401\n",
       "8         1601\n",
       "9         1801\n",
       "10        2001\n",
       "11        2201\n",
       "12        2401\n",
       "13        2601\n",
       "14        2801\n",
       "15        3001\n",
       "16        3201\n",
       "17        3401\n",
       "18        3601\n",
       "19        3801\n",
       "20        4001\n",
       "21        4201\n",
       "22        4401\n",
       "23        4601\n",
       "24        4801\n",
       "25        5001\n",
       "26        5201\n",
       "27        5401\n",
       "28        5601\n",
       "29        5801\n",
       "         ...  \n",
       "1002    200401\n",
       "1003    200601\n",
       "1004    200801\n",
       "1005    201001\n",
       "1006    201201\n",
       "1007    201401\n",
       "1008    201601\n",
       "1009    201801\n",
       "1010    202001\n",
       "1011    202201\n",
       "1012    202401\n",
       "1013    202601\n",
       "1014    202801\n",
       "1015    203001\n",
       "1016    203201\n",
       "1017    203401\n",
       "1018    203601\n",
       "1019    203801\n",
       "1020    204001\n",
       "1021    204201\n",
       "1022    204401\n",
       "1023    204601\n",
       "1024    204801\n",
       "1025    205001\n",
       "1026    205201\n",
       "1027    205401\n",
       "1028    205601\n",
       "1029    205801\n",
       "1030    206001\n",
       "1031    206201\n",
       "Name: user_id, dtype: int64"
      ]
     },
     "execution_count": 109,
     "metadata": {},
     "output_type": "execute_result"
    }
   ],
   "source": [
    "test_preds.user_id"
   ]
  },
  {
   "cell_type": "code",
   "execution_count": 33,
   "metadata": {},
   "outputs": [],
   "source": [
    "user_stats = []\n",
    "b = int(round(row['pred'],0))\n",
    "user = 201\n",
    "\n",
    "user_stats = user_prod_stats.loc[user_prod_stats['user_id'] == user]\n",
    "user_products = user_stats['product_id']\n",
    "\n",
    "pred_prods  =  user_products.head(basket_size)\n",
    "df_row = pred_prods.tolist()\n",
    "sample_user = user\n",
    "sample_size = basket_size\n",
    "sample_reco = pred_prods\n",
    "final_pred_prods.append(df_row)"
   ]
  },
  {
   "cell_type": "code",
   "execution_count": 48,
   "metadata": {},
   "outputs": [
    {
     "name": "stdout",
     "output_type": "stream",
     "text": [
      "User: 201\n",
      "Basket size: 18\n",
      "recommeded products: [13712, 329, 27845, 23339, 23734, 6203, 21137, 30700, 20597, 42016, 5025, 5550, 5451, 13176, 18176, 21162]\n",
      "16\n"
     ]
    }
   ],
   "source": [
    "print 'User:', sample_user\n",
    "print 'Basket size:', int(sample_size)\n",
    "print  'recommeded products:',list(sample_reco)"
   ]
  },
  {
   "cell_type": "code",
   "execution_count": 81,
   "metadata": {
    "collapsed": true
   },
   "outputs": [],
   "source": [
    "client = MongoClient()\n",
    "client = MongoClient('localhost', 27017)\n",
    "db = client.retail_db"
   ]
  },
  {
   "cell_type": "code",
   "execution_count": 82,
   "metadata": {
    "collapsed": true
   },
   "outputs": [],
   "source": [
    "users = db.users"
   ]
  },
  {
   "cell_type": "code",
   "execution_count": 83,
   "metadata": {},
   "outputs": [],
   "source": [
    "use = list(users.find({\"text\": \"Ishwar Sawale\"}).sort([(\"date\", pymongo.DESCENDING)]).limit(1))"
   ]
  },
  {
   "cell_type": "code",
   "execution_count": 86,
   "metadata": {},
   "outputs": [
    {
     "name": "stdout",
     "output_type": "stream",
     "text": [
      "Ishwar Sawale\n"
     ]
    }
   ],
   "source": [
    "print use[0]['text']"
   ]
  },
  {
   "cell_type": "code",
   "execution_count": 126,
   "metadata": {
    "collapsed": true
   },
   "outputs": [],
   "source": [
    "# ub = client.user_table"
   ]
  },
  {
   "cell_type": "code",
   "execution_count": 127,
   "metadata": {
    "collapsed": true
   },
   "outputs": [],
   "source": [
    "# user = {\"user_name\": \"Sujata Dev\", \"user_id\": 5801}\n",
    "# unames = ub.users\n",
    "# user_id = unames.insert_one(user).inserted_id"
   ]
  },
  {
   "cell_type": "code",
   "execution_count": 128,
   "metadata": {
    "collapsed": true
   },
   "outputs": [],
   "source": [
    "# unames = ub.users"
   ]
  },
  {
   "cell_type": "code",
   "execution_count": 129,
   "metadata": {},
   "outputs": [
    {
     "data": {
      "text/plain": [
       "Collection(Database(MongoClient(host=['localhost:27017'], document_class=dict, tz_aware=False, connect=True), u'user_table'), u'users')"
      ]
     },
     "execution_count": 129,
     "metadata": {},
     "output_type": "execute_result"
    }
   ],
   "source": [
    "# unames"
   ]
  },
  {
   "cell_type": "code",
   "execution_count": 132,
   "metadata": {
    "collapsed": true
   },
   "outputs": [],
   "source": [
    "# ub = client.user_table\n",
    "# user = {\"user_name\": \"Sujata Dev\", \"user_id\": 5801}\n",
    "# unames = ub.users\n",
    "# user_id = unames.insert_one(user).inserted_id"
   ]
  },
  {
   "cell_type": "code",
   "execution_count": 133,
   "metadata": {
    "collapsed": true
   },
   "outputs": [],
   "source": [
    "# ub = client.user_table\n",
    "# user = {\"user_name\": \"Ishwar Sawale\", \"user_id\": 201}\n",
    "# unames = ub.users\n",
    "# user_id = unames.insert_one(user).inserted_id"
   ]
  },
  {
   "cell_type": "code",
   "execution_count": 134,
   "metadata": {
    "collapsed": true
   },
   "outputs": [],
   "source": [
    "# ub = client.user_table\n",
    "# user = {\"user_name\": \"Gaurav Lotekar\", \"user_id\": 1}\n",
    "# unames = ub.users\n",
    "# user_id = unames.insert_one(user).inserted_id"
   ]
  },
  {
   "cell_type": "code",
   "execution_count": 135,
   "metadata": {
    "collapsed": true
   },
   "outputs": [],
   "source": [
    "# ub = client.user_table\n",
    "# user = {\"user_name\": \"Savvy Jain\", \"user_id\": 401}\n",
    "# unames = ub.users\n",
    "# user_id = unames.insert_one(user).inserted_id"
   ]
  },
  {
   "cell_type": "code",
   "execution_count": null,
   "metadata": {
    "collapsed": true
   },
   "outputs": [],
   "source": []
  }
 ],
 "metadata": {
  "kernelspec": {
   "display_name": "Python 2",
   "language": "python",
   "name": "python2"
  },
  "language_info": {
   "codemirror_mode": {
    "name": "ipython",
    "version": 2
   },
   "file_extension": ".py",
   "mimetype": "text/x-python",
   "name": "python",
   "nbconvert_exporter": "python",
   "pygments_lexer": "ipython2",
   "version": "2.7.14"
  }
 },
 "nbformat": 4,
 "nbformat_minor": 2
}
